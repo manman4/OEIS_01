{
 "cells": [
  {
   "cell_type": "markdown",
   "metadata": {},
   "source": [
    "## sequence_list.csvの作成"
   ]
  },
  {
   "cell_type": "code",
   "execution_count": 1,
   "metadata": {},
   "outputs": [
    {
     "name": "stdout",
     "output_type": "stream",
     "text": [
      "\n",
      "STDOUT: \n",
      "STDERR: \n"
     ]
    }
   ],
   "source": [
    "import subprocess\n",
    "\n",
    "result = subprocess.run([\"ruby\", \"create_list.rb\"], capture_output=True, text=True)\n",
    "print(result.stdout)  # Rubyスクリプトの標準出力を表示\n",
    "\n",
    "# エラー出力を表示\n",
    "print(\"STDOUT:\", result.stdout)\n",
    "print(\"STDERR:\", result.stderr)"
   ]
  },
  {
   "cell_type": "code",
   "execution_count": 2,
   "metadata": {},
   "outputs": [],
   "source": [
    "import pandas as pd\n",
    "\n",
    "data_file = 'sequence_list.csv'"
   ]
  },
  {
   "cell_type": "markdown",
   "metadata": {},
   "source": [
    "# フォルダ毎の数列の数"
   ]
  },
  {
   "cell_type": "code",
   "execution_count": 3,
   "metadata": {},
   "outputs": [
    {
     "data": {
      "text/html": [
       "<div>\n",
       "<style scoped>\n",
       "    .dataframe tbody tr th:only-of-type {\n",
       "        vertical-align: middle;\n",
       "    }\n",
       "\n",
       "    .dataframe tbody tr th {\n",
       "        vertical-align: top;\n",
       "    }\n",
       "\n",
       "    .dataframe thead th {\n",
       "        text-align: right;\n",
       "    }\n",
       "</style>\n",
       "<table border=\"1\" class=\"dataframe\">\n",
       "  <thead>\n",
       "    <tr style=\"text-align: right;\">\n",
       "      <th></th>\n",
       "      <th>seq_no</th>\n",
       "    </tr>\n",
       "  </thead>\n",
       "  <tbody>\n",
       "    <tr>\n",
       "      <th>0</th>\n",
       "      <td>100</td>\n",
       "    </tr>\n",
       "    <tr>\n",
       "      <th>1</th>\n",
       "      <td>100</td>\n",
       "    </tr>\n",
       "    <tr>\n",
       "      <th>2</th>\n",
       "      <td>100</td>\n",
       "    </tr>\n",
       "    <tr>\n",
       "      <th>3</th>\n",
       "      <td>100</td>\n",
       "    </tr>\n",
       "    <tr>\n",
       "      <th>4</th>\n",
       "      <td>100</td>\n",
       "    </tr>\n",
       "    <tr>\n",
       "      <th>...</th>\n",
       "      <td>...</td>\n",
       "    </tr>\n",
       "    <tr>\n",
       "      <th>985</th>\n",
       "      <td>199</td>\n",
       "    </tr>\n",
       "    <tr>\n",
       "      <th>986</th>\n",
       "      <td>199</td>\n",
       "    </tr>\n",
       "    <tr>\n",
       "      <th>987</th>\n",
       "      <td>199</td>\n",
       "    </tr>\n",
       "    <tr>\n",
       "      <th>988</th>\n",
       "      <td>199</td>\n",
       "    </tr>\n",
       "    <tr>\n",
       "      <th>989</th>\n",
       "      <td>199</td>\n",
       "    </tr>\n",
       "  </tbody>\n",
       "</table>\n",
       "<p>990 rows × 1 columns</p>\n",
       "</div>"
      ],
      "text/plain": [
       "     seq_no\n",
       "0       100\n",
       "1       100\n",
       "2       100\n",
       "3       100\n",
       "4       100\n",
       "..      ...\n",
       "985     199\n",
       "986     199\n",
       "987     199\n",
       "988     199\n",
       "989     199\n",
       "\n",
       "[990 rows x 1 columns]"
      ]
     },
     "execution_count": 3,
     "metadata": {},
     "output_type": "execute_result"
    }
   ],
   "source": [
    "df = pd.read_csv(data_file)\n",
    "df.columns = ['no', 'seq_no']\n",
    "df = df[['seq_no']]\n",
    "df['seq_no'] = df['seq_no'] // 1000\n",
    "df"
   ]
  },
  {
   "cell_type": "code",
   "execution_count": 4,
   "metadata": {},
   "outputs": [
    {
     "data": {
      "text/plain": [
       "<Axes: ylabel='Frequency'>"
      ]
     },
     "execution_count": 4,
     "metadata": {},
     "output_type": "execute_result"
    },
    {
     "data": {
      "image/png": "[encoded data removed]",
      "text/plain": [
       "<Figure size 640x480 with 1 Axes>"
      ]
     },
     "metadata": {},
     "output_type": "display_data"
    }
   ],
   "source": [
    "# show_rangeの開始に注意\n",
    "show_range = list(range(99, 199+1))\n",
    "df.plot.hist(bins=show_range)"
   ]
  },
  {
   "cell_type": "code",
   "execution_count": 5,
   "metadata": {},
   "outputs": [
    {
     "name": "stdout",
     "output_type": "stream",
     "text": [
      "度数分布表\n",
      "\n",
      "100 : 17, 101 : 17, 102 : 9, 103 : 7, 104 : 17, 105 : 10, 106 : 12, 107 : 14, 108 : 22, 109 : 14, \n",
      "110 : 6, 111 : 13, 112 : 24, 113 : 9, 114 : 10, 115 : 21, 116 : 10, 117 : 6, 118 : 8, 119 : 10, \n",
      "120 : 17, 121 : 20, 122 : 11, 123 : 10, 124 : 5, 125 : 6, 126 : 20, 127 : 9, 128 : 10, 129 : 11, \n",
      "130 : 5, 131 : 13, 132 : 14, 133 : 15, 134 : 5, 135 : 6, 136 : 5, 137 : 13, 138 : 13, 139 : 8, \n",
      "140 : 7, 141 : 9, 142 : 14, 143 : 45, 144 : 18, 145 : 23, 146 : 2, 147 : 9, 148 : 0, 149 : 0, \n",
      "150 : 0, 151 : 7, 152 : 5, 153 : 4, 154 : 3, 155 : 0, 156 : 6, 157 : 3, 158 : 8, 159 : 9, \n",
      "160 : 27, 161 : 11, 162 : 7, 163 : 2, 164 : 3, 165 : 5, 166 : 5, 167 : 3, 168 : 4, 169 : 12, \n",
      "170 : 7, 171 : 31, 172 : 3, 173 : 15, 174 : 7, 175 : 7, 176 : 7, 177 : 17, 178 : 12, 179 : 7, \n",
      "180 : 5, 181 : 5, 182 : 10, 183 : 3, 184 : 7, 185 : 6, 186 : 11, 187 : 12, 188 : 13, 189 : 4, \n",
      "190 : 15, 191 : 6, 192 : 7, 193 : 20, 194 : 3, 195 : 8, 196 : 6, 197 : 3, 198 : 4, 199 : 6, \n",
      "合計 : 100\n"
     ]
    }
   ],
   "source": [
    "# ヒストグラムの度数分布表を作成\n",
    "hist = pd.cut(df['seq_no'], bins=show_range).value_counts().sort_index()\n",
    "\n",
    "# 度数分布表を表示（ただし、度数が0は除く）\n",
    "print('度数分布表')\n",
    "\n",
    "cnt = 0\n",
    "for i in hist.index:\n",
    "    cnt += 1\n",
    "    if i.right % 10 == 0:\n",
    "        print()\n",
    "    print(f'{i.right} : {hist[i]}', end=', ')\n",
    "\n",
    "print()\n",
    "print(f'合計 : {cnt}')"
   ]
  },
  {
   "cell_type": "markdown",
   "metadata": {},
   "source": [
    "# 偏り"
   ]
  },
  {
   "cell_type": "code",
   "execution_count": 6,
   "metadata": {},
   "outputs": [
    {
     "data": {
      "text/html": [
       "<div>\n",
       "<style scoped>\n",
       "    .dataframe tbody tr th:only-of-type {\n",
       "        vertical-align: middle;\n",
       "    }\n",
       "\n",
       "    .dataframe tbody tr th {\n",
       "        vertical-align: top;\n",
       "    }\n",
       "\n",
       "    .dataframe thead th {\n",
       "        text-align: right;\n",
       "    }\n",
       "</style>\n",
       "<table border=\"1\" class=\"dataframe\">\n",
       "  <thead>\n",
       "    <tr style=\"text-align: right;\">\n",
       "      <th></th>\n",
       "      <th>seq_no</th>\n",
       "    </tr>\n",
       "  </thead>\n",
       "  <tbody>\n",
       "    <tr>\n",
       "      <th>0</th>\n",
       "      <td>73</td>\n",
       "    </tr>\n",
       "    <tr>\n",
       "      <th>1</th>\n",
       "      <td>32</td>\n",
       "    </tr>\n",
       "    <tr>\n",
       "      <th>2</th>\n",
       "      <td>33</td>\n",
       "    </tr>\n",
       "    <tr>\n",
       "      <th>3</th>\n",
       "      <td>34</td>\n",
       "    </tr>\n",
       "    <tr>\n",
       "      <th>4</th>\n",
       "      <td>35</td>\n",
       "    </tr>\n",
       "    <tr>\n",
       "      <th>...</th>\n",
       "      <td>...</td>\n",
       "    </tr>\n",
       "    <tr>\n",
       "      <th>985</th>\n",
       "      <td>8</td>\n",
       "    </tr>\n",
       "    <tr>\n",
       "      <th>986</th>\n",
       "      <td>75</td>\n",
       "    </tr>\n",
       "    <tr>\n",
       "      <th>987</th>\n",
       "      <td>59</td>\n",
       "    </tr>\n",
       "    <tr>\n",
       "      <th>988</th>\n",
       "      <td>52</td>\n",
       "    </tr>\n",
       "    <tr>\n",
       "      <th>989</th>\n",
       "      <td>74</td>\n",
       "    </tr>\n",
       "  </tbody>\n",
       "</table>\n",
       "<p>990 rows × 1 columns</p>\n",
       "</div>"
      ],
      "text/plain": [
       "     seq_no\n",
       "0        73\n",
       "1        32\n",
       "2        33\n",
       "3        34\n",
       "4        35\n",
       "..      ...\n",
       "985       8\n",
       "986      75\n",
       "987      59\n",
       "988      52\n",
       "989      74\n",
       "\n",
       "[990 rows x 1 columns]"
      ]
     },
     "execution_count": 6,
     "metadata": {},
     "output_type": "execute_result"
    }
   ],
   "source": [
    "df = pd.read_csv(data_file)\n",
    "df.columns = ['no', 'seq_no']\n",
    "df = df[['seq_no']]\n",
    "df['seq_no'] = df['seq_no'] % 100\n",
    "df"
   ]
  },
  {
   "cell_type": "code",
   "execution_count": 7,
   "metadata": {},
   "outputs": [
    {
     "data": {
      "text/plain": [
       "<Axes: ylabel='Frequency'>"
      ]
     },
     "execution_count": 7,
     "metadata": {},
     "output_type": "execute_result"
    },
    {
     "data": {
      "image/png": "[encoded data removed]",
      "text/plain": [
       "<Figure size 640x480 with 1 Axes>"
      ]
     },
     "metadata": {},
     "output_type": "display_data"
    }
   ],
   "source": [
    "df.plot.hist(bins=100)"
   ]
  }
 ],
 "metadata": {
  "kernelspec": {
   "display_name": "base",
   "language": "python",
   "name": "python3"
  },
  "language_info": {
   "codemirror_mode": {
    "name": "ipython",
    "version": 3
   },
   "file_extension": ".py",
   "mimetype": "text/x-python",
   "name": "python",
   "nbconvert_exporter": "python",
   "pygments_lexer": "ipython3",
   "version": "3.11.5"
  },
  "orig_nbformat": 4
 },
 "nbformat": 4,
 "nbformat_minor": 2
}
