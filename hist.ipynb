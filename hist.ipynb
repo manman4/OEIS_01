{
 "cells": [
  {
   "cell_type": "code",
   "execution_count": 1,
   "metadata": {},
   "outputs": [],
   "source": [
    "import pandas as pd\n",
    "\n",
    "data_file = 'sequence_list.csv'"
   ]
  },
  {
   "cell_type": "markdown",
   "metadata": {},
   "source": [
    "# フォルダ毎の数列の数"
   ]
  },
  {
   "cell_type": "code",
   "execution_count": 2,
   "metadata": {},
   "outputs": [
    {
     "data": {
      "text/html": [
       "<div>\n",
       "<style scoped>\n",
       "    .dataframe tbody tr th:only-of-type {\n",
       "        vertical-align: middle;\n",
       "    }\n",
       "\n",
       "    .dataframe tbody tr th {\n",
       "        vertical-align: top;\n",
       "    }\n",
       "\n",
       "    .dataframe thead th {\n",
       "        text-align: right;\n",
       "    }\n",
       "</style>\n",
       "<table border=\"1\" class=\"dataframe\">\n",
       "  <thead>\n",
       "    <tr style=\"text-align: right;\">\n",
       "      <th></th>\n",
       "      <th>seq_no</th>\n",
       "    </tr>\n",
       "  </thead>\n",
       "  <tbody>\n",
       "    <tr>\n",
       "      <th>0</th>\n",
       "      <td>100</td>\n",
       "    </tr>\n",
       "    <tr>\n",
       "      <th>1</th>\n",
       "      <td>100</td>\n",
       "    </tr>\n",
       "    <tr>\n",
       "      <th>2</th>\n",
       "      <td>100</td>\n",
       "    </tr>\n",
       "    <tr>\n",
       "      <th>3</th>\n",
       "      <td>100</td>\n",
       "    </tr>\n",
       "    <tr>\n",
       "      <th>4</th>\n",
       "      <td>100</td>\n",
       "    </tr>\n",
       "    <tr>\n",
       "      <th>...</th>\n",
       "      <td>...</td>\n",
       "    </tr>\n",
       "    <tr>\n",
       "      <th>804</th>\n",
       "      <td>199</td>\n",
       "    </tr>\n",
       "    <tr>\n",
       "      <th>805</th>\n",
       "      <td>199</td>\n",
       "    </tr>\n",
       "    <tr>\n",
       "      <th>806</th>\n",
       "      <td>199</td>\n",
       "    </tr>\n",
       "    <tr>\n",
       "      <th>807</th>\n",
       "      <td>199</td>\n",
       "    </tr>\n",
       "    <tr>\n",
       "      <th>808</th>\n",
       "      <td>199</td>\n",
       "    </tr>\n",
       "  </tbody>\n",
       "</table>\n",
       "<p>809 rows × 1 columns</p>\n",
       "</div>"
      ],
      "text/plain": [
       "     seq_no\n",
       "0       100\n",
       "1       100\n",
       "2       100\n",
       "3       100\n",
       "4       100\n",
       "..      ...\n",
       "804     199\n",
       "805     199\n",
       "806     199\n",
       "807     199\n",
       "808     199\n",
       "\n",
       "[809 rows x 1 columns]"
      ]
     },
     "execution_count": 2,
     "metadata": {},
     "output_type": "execute_result"
    }
   ],
   "source": [
    "df = pd.read_csv(data_file)\n",
    "df.columns = ['no', 'seq_no']\n",
    "df = df[['seq_no']]\n",
    "df['seq_no'] = df['seq_no'] // 1000\n",
    "df"
   ]
  },
  {
   "cell_type": "code",
   "execution_count": 3,
   "metadata": {},
   "outputs": [
    {
     "data": {
      "text/plain": [
       "<Axes: ylabel='Frequency'>"
      ]
     },
     "execution_count": 3,
     "metadata": {},
     "output_type": "execute_result"
    },
    {
     "data": {
      "image/png": "[encoded data removed]",
      "text/plain": [
       "<Figure size 640x480 with 1 Axes>"
      ]
     },
     "metadata": {},
     "output_type": "display_data"
    }
   ],
   "source": [
    "# show_rangeの開始に注意\n",
    "show_range = list(range(99, 199+1))\n",
    "df.plot.hist(bins=show_range)"
   ]
  },
  {
   "cell_type": "code",
   "execution_count": 4,
   "metadata": {},
   "outputs": [
    {
     "name": "stdout",
     "output_type": "stream",
     "text": [
      "度数分布表\n",
      "\n",
      "100 : 16, 101 : 13, 102 : 8, 103 : 6, 104 : 15, 105 : 9, 106 : 10, 107 : 8, 108 : 14, 109 : 13, \n",
      "110 : 6, 111 : 12, 112 : 17, 113 : 9, 114 : 8, 115 : 20, 116 : 9, 117 : 5, 118 : 8, 119 : 9, \n",
      "120 : 7, 121 : 19, 122 : 11, 123 : 10, 124 : 4, 125 : 5, 126 : 19, 127 : 8, 128 : 9, 129 : 9, \n",
      "130 : 3, 131 : 12, 132 : 13, 133 : 15, 134 : 4, 135 : 5, 136 : 3, 137 : 6, 138 : 9, 139 : 8, \n",
      "140 : 7, 141 : 6, 142 : 14, 143 : 25, 144 : 13, 145 : 22, 146 : 2, 147 : 7, 148 : 0, 149 : 0, \n",
      "150 : 0, 151 : 7, 152 : 5, 153 : 4, 154 : 2, 155 : 0, 156 : 6, 157 : 3, 158 : 7, 159 : 9, \n",
      "160 : 25, 161 : 5, 162 : 6, 163 : 2, 164 : 3, 165 : 5, 166 : 3, 167 : 3, 168 : 4, 169 : 12, \n",
      "170 : 7, 171 : 18, 172 : 2, 173 : 15, 174 : 6, 175 : 6, 176 : 7, 177 : 5, 178 : 3, 179 : 7, \n",
      "180 : 4, 181 : 4, 182 : 7, 183 : 2, 184 : 6, 185 : 4, 186 : 11, 187 : 10, 188 : 13, 189 : 3, \n",
      "190 : 15, 191 : 5, 192 : 7, 193 : 16, 194 : 2, 195 : 8, 196 : 6, 197 : 3, 198 : 1, 199 : 5, \n",
      "合計 : 100\n"
     ]
    }
   ],
   "source": [
    "# ヒストグラムの度数分布表を作成\n",
    "hist = pd.cut(df['seq_no'], bins=show_range).value_counts().sort_index()\n",
    "\n",
    "# 度数分布表を表示（ただし、度数が0は除く）\n",
    "print('度数分布表')\n",
    "\n",
    "cnt = 0\n",
    "for i in hist.index:\n",
    "    cnt += 1\n",
    "    if i.right % 10 == 0:\n",
    "        print()\n",
    "    print(f'{i.right} : {hist[i]}', end=', ')\n",
    "\n",
    "print()\n",
    "print(f'合計 : {cnt}')"
   ]
  },
  {
   "cell_type": "markdown",
   "metadata": {},
   "source": [
    "# 偏り"
   ]
  },
  {
   "cell_type": "code",
   "execution_count": 5,
   "metadata": {},
   "outputs": [
    {
     "data": {
      "text/html": [
       "<div>\n",
       "<style scoped>\n",
       "    .dataframe tbody tr th:only-of-type {\n",
       "        vertical-align: middle;\n",
       "    }\n",
       "\n",
       "    .dataframe tbody tr th {\n",
       "        vertical-align: top;\n",
       "    }\n",
       "\n",
       "    .dataframe thead th {\n",
       "        text-align: right;\n",
       "    }\n",
       "</style>\n",
       "<table border=\"1\" class=\"dataframe\">\n",
       "  <thead>\n",
       "    <tr style=\"text-align: right;\">\n",
       "      <th></th>\n",
       "      <th>seq_no</th>\n",
       "    </tr>\n",
       "  </thead>\n",
       "  <tbody>\n",
       "    <tr>\n",
       "      <th>0</th>\n",
       "      <td>73</td>\n",
       "    </tr>\n",
       "    <tr>\n",
       "      <th>1</th>\n",
       "      <td>32</td>\n",
       "    </tr>\n",
       "    <tr>\n",
       "      <th>2</th>\n",
       "      <td>33</td>\n",
       "    </tr>\n",
       "    <tr>\n",
       "      <th>3</th>\n",
       "      <td>34</td>\n",
       "    </tr>\n",
       "    <tr>\n",
       "      <th>4</th>\n",
       "      <td>35</td>\n",
       "    </tr>\n",
       "    <tr>\n",
       "      <th>...</th>\n",
       "      <td>...</td>\n",
       "    </tr>\n",
       "    <tr>\n",
       "      <th>804</th>\n",
       "      <td>84</td>\n",
       "    </tr>\n",
       "    <tr>\n",
       "      <th>805</th>\n",
       "      <td>8</td>\n",
       "    </tr>\n",
       "    <tr>\n",
       "      <th>806</th>\n",
       "      <td>75</td>\n",
       "    </tr>\n",
       "    <tr>\n",
       "      <th>807</th>\n",
       "      <td>59</td>\n",
       "    </tr>\n",
       "    <tr>\n",
       "      <th>808</th>\n",
       "      <td>74</td>\n",
       "    </tr>\n",
       "  </tbody>\n",
       "</table>\n",
       "<p>809 rows × 1 columns</p>\n",
       "</div>"
      ],
      "text/plain": [
       "     seq_no\n",
       "0        73\n",
       "1        32\n",
       "2        33\n",
       "3        34\n",
       "4        35\n",
       "..      ...\n",
       "804      84\n",
       "805       8\n",
       "806      75\n",
       "807      59\n",
       "808      74\n",
       "\n",
       "[809 rows x 1 columns]"
      ]
     },
     "execution_count": 5,
     "metadata": {},
     "output_type": "execute_result"
    }
   ],
   "source": [
    "df = pd.read_csv(data_file)\n",
    "df.columns = ['no', 'seq_no']\n",
    "df = df[['seq_no']]\n",
    "df['seq_no'] = df['seq_no'] % 100\n",
    "df"
   ]
  },
  {
   "cell_type": "code",
   "execution_count": 6,
   "metadata": {},
   "outputs": [
    {
     "data": {
      "text/plain": [
       "<Axes: ylabel='Frequency'>"
      ]
     },
     "execution_count": 6,
     "metadata": {},
     "output_type": "execute_result"
    },
    {
     "data": {
      "image/png": "[encoded data removed]",
      "text/plain": [
       "<Figure size 640x480 with 1 Axes>"
      ]
     },
     "metadata": {},
     "output_type": "display_data"
    }
   ],
   "source": [
    "df.plot.hist(bins=100)"
   ]
  }
 ],
 "metadata": {
  "kernelspec": {
   "display_name": "Python 3.8.5 ('base')",
   "language": "python",
   "name": "python3"
  },
  "language_info": {
   "codemirror_mode": {
    "name": "ipython",
    "version": 3
   },
   "file_extension": ".py",
   "mimetype": "text/x-python",
   "name": "python",
   "nbconvert_exporter": "python",
   "pygments_lexer": "ipython3",
   "version": "3.11.5"
  },
  "orig_nbformat": 4,
  "vscode": {
   "interpreter": {
    "hash": "8ad9b3c300ef8b98a084aa4c6594714fe115163faf6d663e5ab47cea338ac9fd"
   }
  }
 },
 "nbformat": 4,
 "nbformat_minor": 2
}
